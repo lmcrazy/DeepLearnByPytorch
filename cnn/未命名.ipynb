{
 "cells": [
  {
   "cell_type": "code",
   "execution_count": 2,
   "metadata": {},
   "outputs": [],
   "source": [
    "import torch\n",
    "import torch.nn as nn\n",
    "import torch.utils.data as Data\n",
    "import torchvision\n",
    "import matplotlib.pyplot as plt"
   ]
  },
  {
   "cell_type": "code",
   "execution_count": 3,
   "metadata": {},
   "outputs": [
    {
     "data": {
      "text/plain": [
       "<torch._C.Generator at 0x7f49440c9350>"
      ]
     },
     "execution_count": 3,
     "metadata": {},
     "output_type": "execute_result"
    }
   ],
   "source": [
    "torch.manual_seed(1)"
   ]
  },
  {
   "cell_type": "code",
   "execution_count": 5,
   "metadata": {},
   "outputs": [],
   "source": [
    "EPOCH = 1 #训练整批数据的批次\n",
    "BATCH_SIZE=50 #每个批次读取多少数据\n",
    "LR=1e-3\n",
    "DOWLOAD_MINIST=True\n"
   ]
  },
  {
   "cell_type": "code",
   "execution_count": 6,
   "metadata": {},
   "outputs": [
    {
     "name": "stdout",
     "output_type": "stream",
     "text": [
      "Downloading http://yann.lecun.com/exdb/mnist/train-images-idx3-ubyte.gz\n",
      "Downloading http://yann.lecun.com/exdb/mnist/train-labels-idx1-ubyte.gz\n",
      "Downloading http://yann.lecun.com/exdb/mnist/t10k-images-idx3-ubyte.gz\n",
      "Downloading http://yann.lecun.com/exdb/mnist/t10k-labels-idx1-ubyte.gz\n",
      "Processing...\n",
      "Done!\n"
     ]
    }
   ],
   "source": [
    "train_data= torchvision.datasets.MNIST(\n",
    "    root='./minist',\n",
    "    train=True,\n",
    "    transform=torchvision.transforms.ToTensor(),\n",
    "    download=DOWLOAD_MINIST\n",
    ")"
   ]
  },
  {
   "cell_type": "code",
   "execution_count": 7,
   "metadata": {},
   "outputs": [],
   "source": [
    "test_data=torchvision.datasets.MNIST(root='./minist',train=False)"
   ]
  },
  {
   "cell_type": "code",
   "execution_count": 9,
   "metadata": {},
   "outputs": [],
   "source": [
    "# 批训练 50samples, 1 channel, 28x28 (50, 1, 28, 28)\n",
    "train_loader = Data.DataLoader(dataset=train_data,batch_size=BATCH_SIZE,shuffle=True)"
   ]
  },
  {
   "cell_type": "code",
   "execution_count": 10,
   "metadata": {},
   "outputs": [],
   "source": [
    "test_x = torch.unsqueeze(test_data.test_data, dim=1).type(torch.FloatTensor)[:2000]/255.   # shape from (2000, 28, 28) to (2000, 1, 28, 28), value in range(0,1)\n",
    "test_y = test_data.test_labels[:2000]\n",
    "\n"
   ]
  },
  {
   "cell_type": "code",
   "execution_count": 16,
   "metadata": {},
   "outputs": [],
   "source": [
    "# 定义模型\n",
    "class CNN(nn.Module):\n",
    "    def __init__(self):\n",
    "        super(CNN,self).__init__()\n",
    "        self.conv1 = nn.Sequential(\n",
    "            nn.Conv2d(\n",
    "                in_channels=1,\n",
    "                out_channels=16,\n",
    "                kernel_size=5,\n",
    "                stride=1,\n",
    "                padding=2, #如果想要 con2d 出来的图片长宽没有变化, padding=(kernel_size-1)/2 当 stride=1\n",
    "            ),\n",
    "            nn.ReLU(),\n",
    "            nn.MaxPool2d(kernel_size=2),\n",
    "        )\n",
    "        \n",
    "        self.con2 = nn.Sequential(\n",
    "            nn.Conv2d(16,32,5,1,2),\n",
    "            nn.ReLU(),\n",
    "            nn.MaxPool2d(kernel_size=2),\n",
    "        )\n",
    "        \n",
    "        self.out = nn.Linear(32*7*7,10)\n",
    "        \n",
    "    def forward(self,x):\n",
    "        x=self.conv1(x)\n",
    "        x=self.con2(x)\n",
    "        x=x.view(x.size(0),-1) # 展平多维的卷积图成 (batch_size, 32 * 7 * 7)\n",
    "        output = self.out(x) \n",
    "        return output\n",
    "    \n",
    "    "
   ]
  },
  {
   "cell_type": "code",
   "execution_count": 17,
   "metadata": {},
   "outputs": [],
   "source": [
    "cnn = CNN()"
   ]
  },
  {
   "cell_type": "code",
   "execution_count": 18,
   "metadata": {},
   "outputs": [
    {
     "name": "stdout",
     "output_type": "stream",
     "text": [
      "CNN(\n",
      "  (conv1): Sequential(\n",
      "    (0): Conv2d(1, 16, kernel_size=(5, 5), stride=(1, 1), padding=(2, 2))\n",
      "    (1): ReLU()\n",
      "    (2): MaxPool2d(kernel_size=2, stride=2, padding=0, dilation=1, ceil_mode=False)\n",
      "  )\n",
      "  (con2): Sequential(\n",
      "    (0): Conv2d(16, 32, kernel_size=(5, 5), stride=(1, 1), padding=(2, 2))\n",
      "    (1): ReLU()\n",
      "    (2): MaxPool2d(kernel_size=2, stride=2, padding=0, dilation=1, ceil_mode=False)\n",
      "  )\n",
      "  (out): Linear(in_features=1568, out_features=10, bias=True)\n",
      ")\n"
     ]
    }
   ],
   "source": [
    "print(cnn)"
   ]
  },
  {
   "cell_type": "code",
   "execution_count": 19,
   "metadata": {},
   "outputs": [],
   "source": [
    "optimizer = torch.optim.Adam(cnn.parameters(),lr=LR)\n",
    "loss_func=nn.CrossEntropyLoss()\n",
    "# training and testing\n",
    "for epoch in range(EPOCH):\n",
    "    for step, (b_x, b_y) in enumerate(train_loader):   # 分配 batch data, normalize x when iterate train_loader\n",
    "        output = cnn(b_x)               # cnn output\n",
    "        loss = loss_func(output, b_y)   # cross entropy loss\n",
    "        optimizer.zero_grad()           # clear gradients for this training step\n",
    "        loss.backward()                 # backpropagation, compute gradients\n",
    "        optimizer.step()                # apply gradients"
   ]
  },
  {
   "cell_type": "code",
   "execution_count": 31,
   "metadata": {},
   "outputs": [
    {
     "name": "stdout",
     "output_type": "stream",
     "text": [
      "tensor([[ -8.0440,  -8.0997,  -1.4495,   0.9826, -13.4916,  -7.8216, -25.6799,\n",
      "          13.1803,  -4.9843,  -1.7314],\n",
      "        [ -0.1532,  -0.6090,   9.8525,  -3.9455, -16.9682, -10.0578,  -3.0559,\n",
      "         -14.9017,  -0.7535, -17.0841],\n",
      "        [ -4.0329,   6.9566,  -3.5273,  -4.5607,  -0.0524,  -5.6656,  -3.7588,\n",
      "          -1.6082,  -2.5601,  -4.0307],\n",
      "        [  9.8704, -14.9059,  -3.2396,  -8.6015,  -6.1942,  -3.4078,  -1.1316,\n",
      "          -6.4802,  -4.2630,  -3.3603],\n",
      "        [ -5.8548,  -4.0518,  -7.3428,  -6.9419,   8.8865, -10.4285,  -5.8612,\n",
      "          -2.8335,  -6.5180,   0.9340],\n",
      "        [ -4.6251,   7.7894,  -4.6738,  -5.2390,  -0.2096,  -7.9809,  -5.3063,\n",
      "          -0.3419,  -2.0124,  -4.0211],\n",
      "        [-15.5516,  -3.5360,  -6.2202,  -8.8890,   6.0318,  -8.0361, -11.5356,\n",
      "          -3.0995,   0.6543,  -1.4803],\n",
      "        [ -9.7924,  -4.1924,  -3.3156,  -2.3941,   0.9446,  -3.1389,  -8.3976,\n",
      "          -4.9584,   0.2414,   3.9010],\n",
      "        [ -8.0625, -20.2427, -10.0270,  -6.3685,  -9.6046,   7.2296,  -1.1523,\n",
      "          -9.8376,  -2.1968,  -4.6933],\n",
      "        [-11.5279, -14.8652,  -6.6593,  -2.7471,  -0.2647,  -7.6568, -21.9847,\n",
      "           1.1026,  -1.0895,   8.1382]], grad_fn=<AddmmBackward>)\n",
      "(tensor([13.1803,  9.8525,  6.9566,  9.8704,  8.8865,  7.7894,  6.0318,  3.9010,\n",
      "         7.2296,  8.1382], grad_fn=<MaxBackward0>), tensor([7, 2, 1, 0, 4, 1, 4, 9, 5, 9]))\n"
     ]
    }
   ],
   "source": [
    "test_output = cnn(test_x[:10])\n",
    "print(test_output)\n",
    "pred_y = torch.max(test_output, 1)[1].data.numpy()\n",
    "print( torch.max(test_output,1))\n",
    "# print(pred_y, 'prediction number')\n",
    "# print(test_y[:10].numpy(), 'real number')"
   ]
  },
  {
   "cell_type": "code",
   "execution_count": null,
   "metadata": {},
   "outputs": [],
   "source": []
  }
 ],
 "metadata": {
  "kernelspec": {
   "display_name": "Python 3",
   "language": "python",
   "name": "python3"
  },
  "language_info": {
   "codemirror_mode": {
    "name": "ipython",
    "version": 3
   },
   "file_extension": ".py",
   "mimetype": "text/x-python",
   "name": "python",
   "nbconvert_exporter": "python",
   "pygments_lexer": "ipython3",
   "version": "3.6.8"
  }
 },
 "nbformat": 4,
 "nbformat_minor": 2
}
